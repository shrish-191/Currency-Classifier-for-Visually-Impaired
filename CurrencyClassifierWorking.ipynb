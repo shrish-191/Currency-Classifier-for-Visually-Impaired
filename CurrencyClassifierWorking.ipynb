{
 "cells": [
  {
   "cell_type": "code",
   "execution_count": null,
   "id": "9cf9057a",
   "metadata": {},
   "outputs": [],
   "source": [
    "# Importing all the libraries\n",
    "import numpy as np\n",
    "from tensorflow.keras.models import load_model\n",
    "from tensorflow.keras.preprocessing import image"
   ]
  },
  {
   "cell_type": "code",
   "execution_count": null,
   "id": "1a190fb3",
   "metadata": {},
   "outputs": [],
   "source": [
    "# Load the model\n",
    "# If you don't have the pretrained model, download it from here:\n",
    "# https://www.mediafire.com/file/ozsymfeyn3zpkja/MediaFire_-_Getting_Started.pdf/file\n",
    "model=load_model('MiniProject.h5')"
   ]
  },
  {
   "cell_type": "code",
   "execution_count": null,
   "id": "b3fe7394",
   "metadata": {},
   "outputs": [],
   "source": [
    "# This function maps the output of the model with the real name of the note.\n",
    "def finalResult(result):\n",
    "  noteList = [\"100 Rupees Note\", \"200 Rupees Note\", \"2000 Rupees Note\",\"500 Rupees Note\", \"50 Rupees Note\",\"10 Rupees Note\", \"20 Rupees Note\"]\n",
    "  result_final = result[0]\n",
    "  index = np.where(result_final==1)[0][0]\n",
    "  return noteList[index]"
   ]
  },
  {
   "cell_type": "code",
   "execution_count": null,
   "id": "67583344",
   "metadata": {},
   "outputs": [],
   "source": [
    "# You can load the image from local, or if you want to capture the image, the code is given in last cell.\n",
    "img=image.load_img('200rs.jpg',target_size=(224,224))\n",
    "test_image=image.img_to_array(img)\n",
    "test_image=np.expand_dims(test_image, axis = 0)"
   ]
  },
  {
   "cell_type": "code",
   "execution_count": null,
   "id": "462f282a",
   "metadata": {},
   "outputs": [],
   "source": [
    "result = model.predict(test_image)\n",
    "print(finalResult(result))"
   ]
  },
  {
   "cell_type": "code",
   "execution_count": null,
   "id": "e5516472",
   "metadata": {},
   "outputs": [],
   "source": [
    "# Capturing picture of the note from the device's camera.\n",
    "import cv2\n",
    "\n",
    "# Initialize the camera\n",
    "cap = cv2.VideoCapture(0)\n",
    "\n",
    "# Check if the camera is opened successfully\n",
    "if not cap.isOpened():\n",
    "    print(\"Error: Could not open camera.\")\n",
    "    exit()\n",
    "\n",
    "# Capture a frame from the camera\n",
    "ret, frame = cap.read()\n",
    "\n",
    "# Check if the frame is captured successfully\n",
    "if not ret:\n",
    "    print(\"Error: Could not capture frame.\")\n",
    "    exit()\n",
    "\n",
    "# Save the captured frame to an image file\n",
    "cv2.imwrite('captured_image.jpg', frame)\n",
    "\n",
    "# Release the camera\n",
    "cap.release()\n",
    "\n",
    "# Display a message indicating successful capture\n",
    "print(\"Image captured successfully.\")\n",
    "\n",
    "# Display the captured image\n",
    "cv2.imshow('Captured Image', frame)\n",
    "cv2.waitKey(0)\n",
    "cv2.destroyAllWindows()\n",
    "\n",
    "img=image.load_img('captured_image.jpg',target_size=(224,224))\n",
    "test_image=image.img_to_array(img)\n",
    "test_image=np.expand_dims(test_image, axis = 0)\n",
    "result = model.predict(test_image)\n",
    "print(finalResult(result))\n",
    "\n",
    "# Import the required module for text\n",
    "# to speech conversion\n",
    "from gtts import gTTS\n",
    "\n",
    "# The text that you want to convert to audio\n",
    "#mytext = 'Hello hello mike testing'\n",
    "#result = Classifier.predict(test_image)\n",
    "mytext = finalResult(result)\n",
    "\n",
    "\n",
    "# Language in which you want to convert\n",
    "language = 'en'\n",
    "\n",
    "# Passing the text and language to the engine,\n",
    "# here we have marked slow=False. Which tells\n",
    "# the module that the converted audio should\n",
    "# have a high speed\n",
    "myobj = gTTS(text=mytext, lang=language, slow=False)\n",
    "\n",
    "# Saving the converted audio in a mp3 file named\n",
    "# welcome\n",
    "myobj.save(\"result.mp3\")\n",
    "\n",
    "\n",
    "# Import this library for playing the audio file\n",
    "import IPython\n",
    "IPython.display.Audio('result.mp3')"
   ]
  }
 ],
 "metadata": {
  "kernelspec": {
   "display_name": "Python 3 (ipykernel)",
   "language": "python",
   "name": "python3"
  },
  "language_info": {
   "codemirror_mode": {
    "name": "ipython",
    "version": 3
   },
   "file_extension": ".py",
   "mimetype": "text/x-python",
   "name": "python",
   "nbconvert_exporter": "python",
   "pygments_lexer": "ipython3",
   "version": "3.10.5"
  }
 },
 "nbformat": 4,
 "nbformat_minor": 5
}
