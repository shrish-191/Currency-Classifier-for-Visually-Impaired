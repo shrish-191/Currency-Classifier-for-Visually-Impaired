{
 "cells": [
  {
   "cell_type": "code",
   "execution_count": null,
   "metadata": {
    "id": "QM9uJxcjLLdE"
   },
   "outputs": [],
   "source": [
    "from tensorflow.keras.layers import Input, Lambda, Dense, Flatten\n",
    "from tensorflow.keras.models import Model\n",
    "from tensorflow.keras.preprocessing import image\n",
    "from tensorflow.keras.preprocessing.image import ImageDataGenerator,load_img\n",
    "from tensorflow.keras.models import Sequential\n",
    "from tensorflow.keras.layers import MaxPooling2D\n",
    "from tensorflow.keras.layers import Conv2D\n",
    "\n",
    "import numpy as np\n",
    "from glob import glob"
   ]
  },
  {
   "cell_type": "code",
   "execution_count": null,
   "metadata": {
    "id": "SIfF3ZP1LSFj"
   },
   "outputs": [],
   "source": [
    "IMAGE_SIZE = [224, 224]\n",
    "\n",
    "# Download the dataset from the given link: https://www.mediafire.com/file/1aa78vcs4zbkx8o/indian_currency_dataset.zip/file\n",
    "\n",
    "train_path = 'indian_currency_dataset/Train'\n",
    "valid_path = 'indian_currency_dataset/Test'"
   ]
  },
  {
   "cell_type": "code",
   "execution_count": null,
   "metadata": {
    "id": "JJmHENU3Nvs0"
   },
   "outputs": [],
   "source": [
    "folders = glob('indian_currency_dataset/Train/*')"
   ]
  },
  {
   "cell_type": "code",
   "execution_count": null,
   "metadata": {
    "colab": {
     "base_uri": "https://localhost:8080/"
    },
    "id": "VozOLtD3P3o6",
    "outputId": "edc7b4d1-e9c2-42de-a847-30b795240ddb"
   },
   "outputs": [
    {
     "data": {
      "text/plain": [
       "['/content/drive/MyDrive/indian_currency_dataset/Train/1Hundrednote',\n",
       " '/content/drive/MyDrive/indian_currency_dataset/Train/Twentynote',\n",
       " '/content/drive/MyDrive/indian_currency_dataset/Train/Tennote',\n",
       " '/content/drive/MyDrive/indian_currency_dataset/Train/5Hundrednote',\n",
       " '/content/drive/MyDrive/indian_currency_dataset/Train/2Thousandnote',\n",
       " '/content/drive/MyDrive/indian_currency_dataset/Train/Fiftynote',\n",
       " '/content/drive/MyDrive/indian_currency_dataset/Train/2Hundrednote']"
      ]
     },
     "execution_count": 4,
     "metadata": {},
     "output_type": "execute_result"
    }
   ],
   "source": [
    "folders"
   ]
  },
  {
   "cell_type": "code",
   "execution_count": null,
   "metadata": {
    "id": "owPiA4C9NwVT"
   },
   "outputs": [],
   "source": [
    "Classifier=Sequential()\n",
    "\n",
    "Classifier.add(Conv2D(32,(3,3), input_shape=(224,224,3), activation='relu'))\n",
    "Classifier.add(MaxPooling2D(pool_size=(2,2)))\n",
    "\n",
    "Classifier.add(Conv2D(32,(3,3),activation='relu'))\n",
    "Classifier.add(MaxPooling2D(pool_size=(2,2)))\n",
    "\n",
    "Classifier.add(Flatten())\n",
    "\n",
    "Classifier.add(Dense(units = 128, activation = 'relu'))\n",
    "Classifier.add(Dense(units = 7, activation = 'softmax'))"
   ]
  },
  {
   "cell_type": "code",
   "execution_count": null,
   "metadata": {
    "id": "tRG4RgXaNzkM"
   },
   "outputs": [],
   "source": [
    "Classifier.compile(\n",
    "  loss='categorical_crossentropy',\n",
    "  optimizer='adam',\n",
    "  metrics=['accuracy']\n",
    ")"
   ]
  },
  {
   "cell_type": "code",
   "execution_count": null,
   "metadata": {
    "id": "Z72-l59_N27D"
   },
   "outputs": [],
   "source": [
    "from tensorflow.keras.preprocessing.image import ImageDataGenerator\n",
    "\n",
    "train_datagen = ImageDataGenerator(rescale = 1./255,\n",
    "                                   height_shift_range=0.2,\n",
    "                                   featurewise_center=True,\n",
    "                                   rotation_range=0.4,\n",
    "                                   horizontal_flip = True)\n",
    "\n",
    "test_datagen = ImageDataGenerator(rescale = 1./255,)"
   ]
  },
  {
   "cell_type": "code",
   "execution_count": null,
   "metadata": {
    "colab": {
     "base_uri": "https://localhost:8080/"
    },
    "id": "1IKFJghiN5y0",
    "outputId": "aa243d59-5808-45e8-a735-7683e1575faa"
   },
   "outputs": [
    {
     "name": "stdout",
     "output_type": "stream",
     "text": [
      "Found 153 images belonging to 7 classes.\n"
     ]
    }
   ],
   "source": [
    "training_set = train_datagen.flow_from_directory('/content/drive/MyDrive/indian_currency_dataset/Train',\n",
    "                                                 target_size = (224, 224),\n",
    "                                                 batch_size = 32,\n",
    "                                                 class_mode = 'categorical')"
   ]
  },
  {
   "cell_type": "code",
   "execution_count": null,
   "metadata": {
    "colab": {
     "base_uri": "https://localhost:8080/"
    },
    "id": "ml1L8RpRN-L0",
    "outputId": "9c55458b-37e5-4881-fee4-e68a8f40e76b"
   },
   "outputs": [
    {
     "name": "stdout",
     "output_type": "stream",
     "text": [
      "Found 42 images belonging to 7 classes.\n"
     ]
    }
   ],
   "source": [
    "test_set = test_datagen.flow_from_directory('/content/drive/MyDrive/indian_currency_dataset/Test',\n",
    "                                            target_size = (224, 224),\n",
    "                                            batch_size = 32,\n",
    "                                            class_mode = 'categorical')"
   ]
  },
  {
   "cell_type": "code",
   "execution_count": null,
   "metadata": {
    "colab": {
     "base_uri": "https://localhost:8080/"
    },
    "id": "aNO0ZF83OBFD",
    "outputId": "b6f456b7-6814-4dbd-876c-0d489ad760b3"
   },
   "outputs": [
    {
     "name": "stderr",
     "output_type": "stream",
     "text": [
      "<ipython-input-9-86347eaea2e8>:6: UserWarning: `Model.fit_generator` is deprecated and will be removed in a future version. Please use `Model.fit`, which supports generators.\n",
      "  r = Classifier.fit_generator(\n",
      "/usr/local/lib/python3.10/dist-packages/keras/src/preprocessing/image.py:1862: UserWarning: This ImageDataGenerator specifies `featurewise_center`, but it hasn't been fit on any training data. Fit it first by calling `.fit(numpy_data)`.\n",
      "  warnings.warn(\n"
     ]
    },
    {
     "name": "stdout",
     "output_type": "stream",
     "text": [
      "Epoch 1/50\n",
      "5/5 [==============================] - 57s 12s/step - loss: 7.2212 - accuracy: 0.1373 - val_loss: 2.7439 - val_accuracy: 0.2381\n",
      "Epoch 2/50\n",
      "5/5 [==============================] - 14s 3s/step - loss: 2.1695 - accuracy: 0.1961 - val_loss: 1.8756 - val_accuracy: 0.2381\n",
      "Epoch 3/50\n",
      "5/5 [==============================] - 14s 3s/step - loss: 1.8090 - accuracy: 0.2418 - val_loss: 1.6951 - val_accuracy: 0.2381\n",
      "Epoch 4/50\n",
      "5/5 [==============================] - 13s 3s/step - loss: 1.5858 - accuracy: 0.3660 - val_loss: 1.4159 - val_accuracy: 0.4524\n",
      "Epoch 5/50\n",
      "5/5 [==============================] - 14s 3s/step - loss: 1.3428 - accuracy: 0.4967 - val_loss: 1.3535 - val_accuracy: 0.3571\n",
      "Epoch 6/50\n",
      "5/5 [==============================] - 14s 3s/step - loss: 1.0180 - accuracy: 0.6667 - val_loss: 1.2663 - val_accuracy: 0.5000\n",
      "Epoch 7/50\n",
      "5/5 [==============================] - 12s 2s/step - loss: 0.9018 - accuracy: 0.6732 - val_loss: 1.2165 - val_accuracy: 0.5000\n",
      "Epoch 8/50\n",
      "5/5 [==============================] - 13s 3s/step - loss: 0.7218 - accuracy: 0.7320 - val_loss: 1.5831 - val_accuracy: 0.4762\n",
      "Epoch 9/50\n",
      "5/5 [==============================] - 13s 2s/step - loss: 0.6319 - accuracy: 0.7778 - val_loss: 1.3742 - val_accuracy: 0.5000\n",
      "Epoch 10/50\n",
      "5/5 [==============================] - 13s 2s/step - loss: 0.5203 - accuracy: 0.7974 - val_loss: 1.3515 - val_accuracy: 0.5476\n",
      "Epoch 11/50\n",
      "5/5 [==============================] - 13s 3s/step - loss: 0.3746 - accuracy: 0.9020 - val_loss: 1.7911 - val_accuracy: 0.4762\n",
      "Epoch 12/50\n",
      "5/5 [==============================] - 13s 3s/step - loss: 0.3906 - accuracy: 0.8431 - val_loss: 1.3979 - val_accuracy: 0.5238\n",
      "Epoch 13/50\n",
      "5/5 [==============================] - 13s 2s/step - loss: 0.4475 - accuracy: 0.8627 - val_loss: 2.6381 - val_accuracy: 0.3810\n",
      "Epoch 14/50\n",
      "5/5 [==============================] - 13s 2s/step - loss: 0.5456 - accuracy: 0.7778 - val_loss: 1.9011 - val_accuracy: 0.5238\n",
      "Epoch 15/50\n",
      "5/5 [==============================] - 13s 3s/step - loss: 0.4646 - accuracy: 0.8301 - val_loss: 1.8944 - val_accuracy: 0.5476\n",
      "Epoch 16/50\n",
      "5/5 [==============================] - 13s 3s/step - loss: 0.2462 - accuracy: 0.9477 - val_loss: 1.5879 - val_accuracy: 0.5952\n",
      "Epoch 17/50\n",
      "5/5 [==============================] - 13s 2s/step - loss: 0.1727 - accuracy: 0.9608 - val_loss: 1.7216 - val_accuracy: 0.6667\n",
      "Epoch 18/50\n",
      "5/5 [==============================] - 13s 2s/step - loss: 0.1563 - accuracy: 0.9608 - val_loss: 1.9059 - val_accuracy: 0.6190\n",
      "Epoch 19/50\n",
      "5/5 [==============================] - 13s 3s/step - loss: 0.1268 - accuracy: 0.9608 - val_loss: 2.2299 - val_accuracy: 0.5714\n",
      "Epoch 20/50\n",
      "5/5 [==============================] - 13s 2s/step - loss: 0.1385 - accuracy: 0.9673 - val_loss: 2.0507 - val_accuracy: 0.5476\n",
      "Epoch 21/50\n",
      "5/5 [==============================] - 13s 2s/step - loss: 0.1325 - accuracy: 0.9673 - val_loss: 1.9951 - val_accuracy: 0.5476\n",
      "Epoch 22/50\n",
      "5/5 [==============================] - 13s 3s/step - loss: 0.1246 - accuracy: 0.9739 - val_loss: 1.9554 - val_accuracy: 0.5714\n",
      "Epoch 23/50\n",
      "5/5 [==============================] - 13s 2s/step - loss: 0.1071 - accuracy: 0.9739 - val_loss: 2.0939 - val_accuracy: 0.5714\n",
      "Epoch 24/50\n",
      "5/5 [==============================] - 13s 2s/step - loss: 0.0872 - accuracy: 0.9869 - val_loss: 2.0611 - val_accuracy: 0.6429\n",
      "Epoch 25/50\n",
      "5/5 [==============================] - 16s 3s/step - loss: 0.0647 - accuracy: 0.9935 - val_loss: 2.2000 - val_accuracy: 0.5952\n",
      "Epoch 26/50\n",
      "5/5 [==============================] - 13s 3s/step - loss: 0.0581 - accuracy: 0.9869 - val_loss: 2.0531 - val_accuracy: 0.6429\n",
      "Epoch 27/50\n",
      "5/5 [==============================] - 14s 3s/step - loss: 0.0412 - accuracy: 0.9935 - val_loss: 2.0195 - val_accuracy: 0.6905\n",
      "Epoch 28/50\n",
      "5/5 [==============================] - 13s 2s/step - loss: 0.0676 - accuracy: 0.9935 - val_loss: 2.0837 - val_accuracy: 0.6667\n",
      "Epoch 29/50\n",
      "5/5 [==============================] - 13s 3s/step - loss: 0.0476 - accuracy: 0.9935 - val_loss: 2.7348 - val_accuracy: 0.6190\n",
      "Epoch 30/50\n",
      "5/5 [==============================] - ETA: 0s - loss: 0.0582 - accuracy: 0.9804Epoch 31/50\n",
      "5/5 [==============================] - 13s 2s/step - loss: 0.0292 - accuracy: 0.9935 - val_loss: 2.5533 - val_accuracy: 0.6190\n",
      "Epoch 32/50\n",
      "5/5 [==============================] - 13s 3s/step - loss: 0.0430 - accuracy: 0.9869 - val_loss: 2.6603 - val_accuracy: 0.6429\n",
      "Epoch 33/50\n",
      "5/5 [==============================] - 13s 2s/step - loss: 0.0552 - accuracy: 0.9804 - val_loss: 2.0211 - val_accuracy: 0.5952\n",
      "Epoch 34/50\n",
      "5/5 [==============================] - 13s 2s/step - loss: 0.0806 - accuracy: 0.9804 - val_loss: 2.6820 - val_accuracy: 0.5714\n",
      "Epoch 35/50\n",
      "5/5 [==============================] - 13s 3s/step - loss: 0.0525 - accuracy: 0.9869 - val_loss: 2.4997 - val_accuracy: 0.5238\n",
      "Epoch 36/50\n",
      "5/5 [==============================] - 15s 2s/step - loss: 0.0523 - accuracy: 0.9869 - val_loss: 2.1466 - val_accuracy: 0.5476\n",
      "Epoch 37/50\n",
      "5/5 [==============================] - 14s 2s/step - loss: 0.0566 - accuracy: 0.9739 - val_loss: 2.6976 - val_accuracy: 0.5714\n",
      "Epoch 38/50\n",
      "5/5 [==============================] - 13s 2s/step - loss: 0.0322 - accuracy: 0.9935 - val_loss: 2.1712 - val_accuracy: 0.6667\n",
      "Epoch 39/50\n",
      "5/5 [==============================] - 13s 3s/step - loss: 0.0252 - accuracy: 0.9935 - val_loss: 2.4193 - val_accuracy: 0.5476\n",
      "Epoch 40/50\n",
      "5/5 [==============================] - 13s 2s/step - loss: 0.0222 - accuracy: 0.9935 - val_loss: 2.3304 - val_accuracy: 0.5714\n",
      "Epoch 41/50\n",
      "5/5 [==============================] - 13s 3s/step - loss: 0.0145 - accuracy: 1.0000 - val_loss: 2.7209 - val_accuracy: 0.5714\n",
      "Epoch 42/50\n",
      "5/5 [==============================] - 13s 2s/step - loss: 0.0216 - accuracy: 0.9935 - val_loss: 2.3957 - val_accuracy: 0.5714\n",
      "Epoch 43/50\n",
      "5/5 [==============================] - 13s 3s/step - loss: 0.0152 - accuracy: 0.9935 - val_loss: 2.4577 - val_accuracy: 0.5476\n",
      "Epoch 44/50\n",
      "5/5 [==============================] - 14s 3s/step - loss: 0.0537 - accuracy: 0.9804 - val_loss: 2.2174 - val_accuracy: 0.5714\n",
      "Epoch 45/50\n",
      "5/5 [==============================] - 14s 3s/step - loss: 0.0760 - accuracy: 0.9869 - val_loss: 1.9288 - val_accuracy: 0.6667\n",
      "Epoch 46/50\n",
      "5/5 [==============================] - 15s 3s/step - loss: 0.0365 - accuracy: 0.9935 - val_loss: 2.6812 - val_accuracy: 0.5476\n",
      "Epoch 47/50\n",
      "5/5 [==============================] - 13s 2s/step - loss: 0.0692 - accuracy: 0.9739 - val_loss: 2.1141 - val_accuracy: 0.6429\n",
      "Epoch 48/50\n",
      "5/5 [==============================] - 13s 3s/step - loss: 0.0308 - accuracy: 0.9935 - val_loss: 2.7691 - val_accuracy: 0.5714\n",
      "Epoch 49/50\n",
      "5/5 [==============================] - 13s 2s/step - loss: 0.0236 - accuracy: 1.0000 - val_loss: 2.8184 - val_accuracy: 0.5952\n",
      "Epoch 50/50\n",
      "5/5 [==============================] - 13s 2s/step - loss: 0.0186 - accuracy: 0.9935 - val_loss: 2.2613 - val_accuracy: 0.6190\n"
     ]
    }
   ],
   "source": [
    "# fit the model\n",
    "from PIL import _imaging\n",
    "from PIL import Image\n",
    "import PIL\n",
    "# Run the cell. It will take some time to execute\n",
    "r = Classifier.fit_generator(\n",
    "  training_set,\n",
    "  validation_data=test_set,\n",
    "  epochs=50,\n",
    "  steps_per_epoch=len(training_set),\n",
    "  validation_steps=len(test_set)\n",
    ")"
   ]
  },
  {
   "cell_type": "code",
   "execution_count": null,
   "metadata": {
    "colab": {
     "base_uri": "https://localhost:8080/"
    },
    "id": "FTuLUs5OOF8z",
    "outputId": "46a154df-2130-48bb-ddbd-73e65a1f2718"
   },
   "outputs": [
    {
     "data": {
      "text/plain": [
       "{'loss': [7.22121524810791,\n",
       "  2.1694841384887695,\n",
       "  1.8089627027511597,\n",
       "  1.5857700109481812,\n",
       "  1.342794418334961,\n",
       "  1.0179635286331177,\n",
       "  0.9018431305885315,\n",
       "  0.7217550873756409,\n",
       "  0.6318566203117371,\n",
       "  0.5203230977058411,\n",
       "  0.37464621663093567,\n",
       "  0.3906112611293793,\n",
       "  0.4475206434726715,\n",
       "  0.5456418395042419,\n",
       "  0.46458184719085693,\n",
       "  0.2461770474910736,\n",
       "  0.17267681658267975,\n",
       "  0.15625958144664764,\n",
       "  0.12675981223583221,\n",
       "  0.13853490352630615,\n",
       "  0.13248170912265778,\n",
       "  0.12455186247825623,\n",
       "  0.10712999850511551,\n",
       "  0.0871560350060463,\n",
       "  0.0646740198135376,\n",
       "  0.05814787372946739,\n",
       "  0.04119986668229103,\n",
       "  0.06763254106044769,\n",
       "  0.047585830092430115,\n",
       "  0.058220040053129196,\n",
       "  0.029150262475013733,\n",
       "  0.04304905980825424,\n",
       "  0.05520490184426308,\n",
       "  0.08058707416057587,\n",
       "  0.05246017873287201,\n",
       "  0.0523323118686676,\n",
       "  0.05658181384205818,\n",
       "  0.032247819006443024,\n",
       "  0.02522878721356392,\n",
       "  0.022170843556523323,\n",
       "  0.014462186954915524,\n",
       "  0.02161499485373497,\n",
       "  0.015171738341450691,\n",
       "  0.05369909480214119,\n",
       "  0.07597047090530396,\n",
       "  0.03650292754173279,\n",
       "  0.06918588280677795,\n",
       "  0.030826980248093605,\n",
       "  0.023600801825523376,\n",
       "  0.018625495955348015],\n",
       " 'accuracy': [0.13725490868091583,\n",
       "  0.19607843458652496,\n",
       "  0.24183006584644318,\n",
       "  0.3660130798816681,\n",
       "  0.49673202633857727,\n",
       "  0.6666666865348816,\n",
       "  0.673202633857727,\n",
       "  0.7320261597633362,\n",
       "  0.7777777910232544,\n",
       "  0.7973856329917908,\n",
       "  0.9019607901573181,\n",
       "  0.843137264251709,\n",
       "  0.8627451062202454,\n",
       "  0.7777777910232544,\n",
       "  0.8300653696060181,\n",
       "  0.9477124214172363,\n",
       "  0.9607843160629272,\n",
       "  0.9607843160629272,\n",
       "  0.9607843160629272,\n",
       "  0.9673202633857727,\n",
       "  0.9673202633857727,\n",
       "  0.9738562107086182,\n",
       "  0.9738562107086182,\n",
       "  0.9869281053543091,\n",
       "  0.9934640526771545,\n",
       "  0.9869281053543091,\n",
       "  0.9934640526771545,\n",
       "  0.9934640526771545,\n",
       "  0.9934640526771545,\n",
       "  0.9803921580314636,\n",
       "  0.9934640526771545,\n",
       "  0.9869281053543091,\n",
       "  0.9803921580314636,\n",
       "  0.9803921580314636,\n",
       "  0.9869281053543091,\n",
       "  0.9869281053543091,\n",
       "  0.9738562107086182,\n",
       "  0.9934640526771545,\n",
       "  0.9934640526771545,\n",
       "  0.9934640526771545,\n",
       "  1.0,\n",
       "  0.9934640526771545,\n",
       "  0.9934640526771545,\n",
       "  0.9803921580314636,\n",
       "  0.9869281053543091,\n",
       "  0.9934640526771545,\n",
       "  0.9738562107086182,\n",
       "  0.9934640526771545,\n",
       "  1.0,\n",
       "  0.9934640526771545],\n",
       " 'val_loss': [2.7438883781433105,\n",
       "  1.8756036758422852,\n",
       "  1.6950898170471191,\n",
       "  1.4159098863601685,\n",
       "  1.3534573316574097,\n",
       "  1.2663280963897705,\n",
       "  1.2164684534072876,\n",
       "  1.5831291675567627,\n",
       "  1.3741830587387085,\n",
       "  1.3514589071273804,\n",
       "  1.7910853624343872,\n",
       "  1.3979051113128662,\n",
       "  2.638082265853882,\n",
       "  1.9011077880859375,\n",
       "  1.894408106803894,\n",
       "  1.5879062414169312,\n",
       "  1.7215683460235596,\n",
       "  1.905873417854309,\n",
       "  2.2299327850341797,\n",
       "  2.050748825073242,\n",
       "  1.995080828666687,\n",
       "  1.9553625583648682,\n",
       "  2.0938899517059326,\n",
       "  2.0610921382904053,\n",
       "  2.199967622756958,\n",
       "  2.053121328353882,\n",
       "  2.019531726837158,\n",
       "  2.0836846828460693,\n",
       "  2.73478364944458,\n",
       "  2.3336057662963867,\n",
       "  2.5533313751220703,\n",
       "  2.6603240966796875,\n",
       "  2.021106719970703,\n",
       "  2.6820011138916016,\n",
       "  2.4996705055236816,\n",
       "  2.1466057300567627,\n",
       "  2.6976234912872314,\n",
       "  2.1711983680725098,\n",
       "  2.419268846511841,\n",
       "  2.3303937911987305,\n",
       "  2.7208898067474365,\n",
       "  2.395747661590576,\n",
       "  2.4577248096466064,\n",
       "  2.217435836791992,\n",
       "  1.9287824630737305,\n",
       "  2.6812095642089844,\n",
       "  2.1140825748443604,\n",
       "  2.7691102027893066,\n",
       "  2.8183605670928955,\n",
       "  2.2612762451171875],\n",
       " 'val_accuracy': [0.2380952388048172,\n",
       "  0.2380952388048172,\n",
       "  0.2380952388048172,\n",
       "  0.4523809552192688,\n",
       "  0.3571428656578064,\n",
       "  0.5,\n",
       "  0.5,\n",
       "  0.4761904776096344,\n",
       "  0.5,\n",
       "  0.5476190447807312,\n",
       "  0.4761904776096344,\n",
       "  0.523809552192688,\n",
       "  0.380952388048172,\n",
       "  0.523809552192688,\n",
       "  0.5476190447807312,\n",
       "  0.5952380895614624,\n",
       "  0.6666666865348816,\n",
       "  0.6190476417541504,\n",
       "  0.5714285969734192,\n",
       "  0.5476190447807312,\n",
       "  0.5476190447807312,\n",
       "  0.5714285969734192,\n",
       "  0.5714285969734192,\n",
       "  0.6428571343421936,\n",
       "  0.5952380895614624,\n",
       "  0.6428571343421936,\n",
       "  0.6904761791229248,\n",
       "  0.6666666865348816,\n",
       "  0.6190476417541504,\n",
       "  0.5476190447807312,\n",
       "  0.6190476417541504,\n",
       "  0.6428571343421936,\n",
       "  0.5952380895614624,\n",
       "  0.5714285969734192,\n",
       "  0.523809552192688,\n",
       "  0.5476190447807312,\n",
       "  0.5714285969734192,\n",
       "  0.6666666865348816,\n",
       "  0.5476190447807312,\n",
       "  0.5714285969734192,\n",
       "  0.5714285969734192,\n",
       "  0.5714285969734192,\n",
       "  0.5476190447807312,\n",
       "  0.5714285969734192,\n",
       "  0.6666666865348816,\n",
       "  0.5476190447807312,\n",
       "  0.6428571343421936,\n",
       "  0.5714285969734192,\n",
       "  0.5952380895614624,\n",
       "  0.6190476417541504]}"
      ]
     },
     "execution_count": 10,
     "metadata": {},
     "output_type": "execute_result"
    }
   ],
   "source": [
    "r.history"
   ]
  },
  {
   "cell_type": "code",
   "execution_count": null,
   "metadata": {
    "colab": {
     "base_uri": "https://localhost:8080/",
     "height": 860
    },
    "id": "iTMsG8AVOI-s",
    "outputId": "1a1a7bad-36a8-4d25-f910-b87f6bffc18f"
   },
   "outputs": [
    {
     "data": {
      "image/png": "[encoded data removed]",
      "text/plain": [
       "<Figure size 640x480 with 1 Axes>"
      ]
     },
     "metadata": {},
     "output_type": "display_data"
    },
    {
     "data": {
      "image/png": "[encoded data removed]",
      "text/plain": [
       "<Figure size 640x480 with 1 Axes>"
      ]
     },
     "metadata": {},
     "output_type": "display_data"
    },
    {
     "data": {
      "text/plain": [
       "<Figure size 640x480 with 0 Axes>"
      ]
     },
     "metadata": {},
     "output_type": "display_data"
    }
   ],
   "source": [
    "import matplotlib.pyplot as plt\n",
    "# plot the loss\n",
    "plt.plot(r.history['loss'], label='train loss')\n",
    "plt.plot(r.history['val_loss'], label='val loss')\n",
    "plt.legend()\n",
    "plt.show()\n",
    "plt.savefig('LossVal_loss')\n",
    "\n",
    "# plot the accuracy\n",
    "plt.plot(r.history['accuracy'], label='train acc')\n",
    "plt.plot(r.history['val_accuracy'], label='val acc')\n",
    "plt.legend()\n",
    "plt.show()\n",
    "plt.savefig('AccVal_acc')"
   ]
  },
  {
   "cell_type": "code",
   "execution_count": null,
   "metadata": {
    "id": "D_zFFMdWtRXi"
   },
   "outputs": [],
   "source": [
    "from tensorflow.keras.models import load_model\n",
    "\n",
    "Classifier.save('MiniProject.h5')"
   ]
  },
  {
   "cell_type": "code",
   "execution_count": null,
   "metadata": {
    "colab": {
     "base_uri": "https://localhost:8080/"
    },
    "id": "_8jRwkK6t4e5",
    "outputId": "8efd1917-db21-412b-eef6-78853b6600e3"
   },
   "outputs": [
    {
     "name": "stdout",
     "output_type": "stream",
     "text": [
      "2/2 [==============================] - 1s 133ms/step\n"
     ]
    }
   ],
   "source": [
    "y_pred = Classifier.predict(test_set)"
   ]
  },
  {
   "cell_type": "code",
   "execution_count": null,
   "metadata": {
    "colab": {
     "base_uri": "https://localhost:8080/"
    },
    "id": "8q_N76zat70c",
    "outputId": "381a9904-170d-4713-8cd8-135bfc4efeed"
   },
   "outputs": [
    {
     "data": {
      "text/plain": [
       "array([[9.98517573e-01, 1.09003389e-15, 7.47831393e-07, 1.48171152e-03,\n",
       "        4.63969793e-15, 1.45104928e-10, 1.75011339e-09],\n",
       "       [2.27918562e-07, 5.22171758e-05, 2.26095858e-06, 9.71731901e-01,\n",
       "        1.62112610e-05, 3.86819863e-07, 2.81968601e-02],\n",
       "       [2.42574010e-16, 9.99998271e-01, 4.63628701e-13, 7.80362086e-09,\n",
       "        1.00700093e-09, 1.46914670e-06, 2.87007992e-07],\n",
       "       [5.06693232e-06, 5.35314150e-15, 9.81083481e-09, 1.76611366e-06,\n",
       "        9.99991238e-01, 1.62564140e-06, 2.08998500e-07],\n",
       "       [5.51236335e-05, 8.04499447e-01, 1.09935971e-03, 6.23365566e-02,\n",
       "        1.98031776e-02, 1.03721730e-01, 8.48473702e-03],\n",
       "       [1.55074233e-07, 3.12981931e-19, 1.98553493e-10, 7.30114493e-07,\n",
       "        9.99997556e-01, 2.56395727e-09, 1.53801068e-06],\n",
       "       [1.12583197e-03, 1.32138739e-05, 9.95375097e-01, 1.27387457e-05,\n",
       "        9.51679394e-05, 7.32117389e-09, 3.37812724e-03],\n",
       "       [5.50570898e-03, 2.59380926e-07, 9.94489074e-01, 4.96183839e-06,\n",
       "        2.58384585e-08, 2.15105711e-09, 4.18147970e-08],\n",
       "       [5.14807086e-03, 1.54817699e-05, 1.67277849e-05, 9.65640843e-01,\n",
       "        1.17159598e-02, 2.03259080e-03, 1.54302334e-02],\n",
       "       [1.40797960e-08, 2.24898756e-03, 8.04326774e-08, 3.14083546e-02,\n",
       "        5.19478363e-06, 8.96471679e-01, 6.98657408e-02],\n",
       "       [7.09266901e-01, 2.04495390e-08, 2.10784702e-03, 8.71013559e-04,\n",
       "        2.87753880e-01, 8.34528557e-10, 2.15755207e-07],\n",
       "       [1.80044937e-10, 8.88013244e-01, 1.94914932e-07, 1.66996571e-04,\n",
       "        5.01502836e-06, 8.43215510e-02, 2.74929348e-02],\n",
       "       [6.98610246e-01, 1.16487776e-07, 2.94984758e-01, 6.00827020e-03,\n",
       "        3.95250419e-04, 4.76347594e-07, 8.56653230e-07],\n",
       "       [1.65976788e-04, 2.77674262e-04, 8.15628562e-03, 9.59838182e-03,\n",
       "        9.94411530e-04, 5.67025108e-06, 9.80801582e-01],\n",
       "       [9.49691437e-10, 3.75124216e-01, 1.10650024e-06, 1.90685721e-04,\n",
       "        3.09785450e-04, 2.75829285e-01, 3.48544896e-01],\n",
       "       [2.84254233e-19, 2.03812913e-08, 7.85767122e-13, 1.17258434e-08,\n",
       "        3.80661079e-14, 4.55559020e-05, 9.99954402e-01],\n",
       "       [2.72367150e-02, 8.26173441e-09, 8.41077508e-06, 9.72622275e-01,\n",
       "        1.19010299e-04, 3.07569735e-07, 1.32972691e-05],\n",
       "       [6.94372833e-01, 3.31586009e-11, 7.17964358e-05, 1.91667274e-01,\n",
       "        1.04570359e-01, 6.26111589e-03, 3.05652712e-03],\n",
       "       [9.42849965e-11, 9.99319851e-01, 7.70580766e-10, 1.11633071e-07,\n",
       "        1.16616738e-09, 2.49465643e-07, 6.79748075e-04],\n",
       "       [6.00084422e-05, 5.97023177e-14, 6.83476685e-07, 1.14999621e-05,\n",
       "        9.99927700e-01, 7.73001732e-11, 1.10819123e-13],\n",
       "       [1.25208721e-01, 5.90072391e-09, 2.83808527e-06, 8.74646008e-01,\n",
       "        1.33389709e-04, 3.69453574e-06, 5.44048589e-06],\n",
       "       [1.95006665e-03, 1.19690725e-07, 7.23395578e-06, 1.94572698e-04,\n",
       "        9.97802973e-01, 7.21807751e-08, 4.48617538e-05],\n",
       "       [1.96804240e-09, 3.59282130e-05, 6.94477087e-10, 3.36187273e-01,\n",
       "        4.29767999e-10, 6.63721263e-01, 5.53571699e-05],\n",
       "       [9.95895445e-01, 1.27881323e-08, 7.29424646e-04, 3.37491045e-03,\n",
       "        1.46635756e-07, 9.83618409e-10, 1.46791066e-07],\n",
       "       [1.52065055e-02, 6.28544949e-09, 9.84793544e-01, 5.03244246e-09,\n",
       "        9.12985154e-09, 1.35406426e-11, 8.76262618e-09],\n",
       "       [1.04475272e-04, 3.39948838e-06, 1.64168409e-06, 9.99865532e-01,\n",
       "        3.22046702e-07, 1.70395433e-05, 7.58981014e-06],\n",
       "       [1.96005091e-13, 1.61522227e-08, 7.36652850e-10, 5.53523159e-06,\n",
       "        9.03040416e-08, 9.98638690e-01, 1.35575759e-03],\n",
       "       [6.79162770e-09, 5.81269327e-04, 9.63876300e-06, 3.91110341e-04,\n",
       "        3.31715200e-05, 6.40048534e-02, 9.34979975e-01],\n",
       "       [1.40797960e-08, 2.24898756e-03, 8.04326774e-08, 3.14083546e-02,\n",
       "        5.19478363e-06, 8.96471679e-01, 6.98657408e-02],\n",
       "       [1.35203372e-04, 1.20294874e-03, 1.37176167e-03, 2.40889594e-01,\n",
       "        7.27618486e-03, 6.67038039e-05, 7.49057591e-01],\n",
       "       [3.24782985e-03, 2.14721775e-04, 9.34717357e-01, 5.58051802e-02,\n",
       "        9.26819837e-07, 5.00362273e-03, 1.01018033e-03],\n",
       "       [3.12223971e-01, 5.41757472e-05, 1.31180873e-02, 4.62660508e-04,\n",
       "        3.41583649e-03, 1.32144447e-12, 6.70725286e-01],\n",
       "       [3.91315582e-04, 1.34457669e-05, 9.99524415e-01, 4.68221515e-05,\n",
       "        1.05113750e-05, 3.73709412e-07, 1.31403467e-05],\n",
       "       [1.54416728e-06, 1.44538239e-01, 2.30812975e-06, 7.77138531e-01,\n",
       "        4.10194698e-05, 6.52815178e-02, 1.29967602e-02],\n",
       "       [4.67277801e-04, 1.22639167e-05, 2.65591425e-05, 7.25338161e-01,\n",
       "        1.53181925e-01, 1.31831357e-05, 1.20960727e-01],\n",
       "       [4.41228303e-06, 5.77838273e-06, 9.99989808e-01, 8.59009641e-10,\n",
       "        4.32363902e-11, 2.50341011e-14, 2.01525872e-08],\n",
       "       [9.93056059e-01, 9.02080410e-10, 2.80854874e-05, 9.24854321e-05,\n",
       "        1.83134239e-06, 4.52269056e-11, 6.82159513e-03],\n",
       "       [2.70126037e-08, 2.24929053e-08, 1.27571425e-07, 2.85121896e-05,\n",
       "        8.67622632e-08, 9.99969065e-01, 2.13027624e-06],\n",
       "       [2.42574010e-16, 9.99998271e-01, 4.63628701e-13, 7.80362086e-09,\n",
       "        1.00700093e-09, 1.46914670e-06, 2.87007992e-07],\n",
       "       [2.49086307e-09, 3.06067871e-23, 7.44933449e-16, 6.81708921e-13,\n",
       "        9.99999940e-01, 1.41777129e-16, 4.94152827e-16],\n",
       "       [9.46633549e-10, 4.64431514e-06, 4.07563316e-09, 1.77145303e-05,\n",
       "        1.06658675e-01, 1.13946401e-01, 7.79372513e-01],\n",
       "       [1.91108199e-07, 6.49383545e-01, 9.96175277e-06, 9.73365828e-03,\n",
       "        1.75330861e-04, 2.29277819e-01, 1.11419566e-01]], dtype=float32)"
      ]
     },
     "execution_count": 13,
     "metadata": {},
     "output_type": "execute_result"
    }
   ],
   "source": [
    "y_pred"
   ]
  },
  {
   "cell_type": "code",
   "execution_count": null,
   "metadata": {
    "id": "3Rw575Xkt_vT"
   },
   "outputs": [],
   "source": [
    "import numpy as np\n",
    "y_pred = np.argmax(y_pred, axis=1)"
   ]
  },
  {
   "cell_type": "code",
   "execution_count": null,
   "metadata": {
    "colab": {
     "base_uri": "https://localhost:8080/"
    },
    "id": "b7Crxhg2uCFy",
    "outputId": "917ccdc1-13dc-43eb-aa7c-1007bafdd4ce"
   },
   "outputs": [
    {
     "data": {
      "text/plain": [
       "array([[9.98517573e-01, 1.09003389e-15, 7.47831393e-07, 1.48171152e-03,\n",
       "        4.63969793e-15, 1.45104928e-10, 1.75011339e-09],\n",
       "       [2.27918562e-07, 5.22171758e-05, 2.26095858e-06, 9.71731901e-01,\n",
       "        1.62112610e-05, 3.86819863e-07, 2.81968601e-02],\n",
       "       [2.42574010e-16, 9.99998271e-01, 4.63628701e-13, 7.80362086e-09,\n",
       "        1.00700093e-09, 1.46914670e-06, 2.87007992e-07],\n",
       "       [5.06693232e-06, 5.35314150e-15, 9.81083481e-09, 1.76611366e-06,\n",
       "        9.99991238e-01, 1.62564140e-06, 2.08998500e-07],\n",
       "       [5.51236335e-05, 8.04499447e-01, 1.09935971e-03, 6.23365566e-02,\n",
       "        1.98031776e-02, 1.03721730e-01, 8.48473702e-03],\n",
       "       [1.55074233e-07, 3.12981931e-19, 1.98553493e-10, 7.30114493e-07,\n",
       "        9.99997556e-01, 2.56395727e-09, 1.53801068e-06],\n",
       "       [1.12583197e-03, 1.32138739e-05, 9.95375097e-01, 1.27387457e-05,\n",
       "        9.51679394e-05, 7.32117389e-09, 3.37812724e-03],\n",
       "       [5.50570898e-03, 2.59380926e-07, 9.94489074e-01, 4.96183839e-06,\n",
       "        2.58384585e-08, 2.15105711e-09, 4.18147970e-08],\n",
       "       [5.14807086e-03, 1.54817699e-05, 1.67277849e-05, 9.65640843e-01,\n",
       "        1.17159598e-02, 2.03259080e-03, 1.54302334e-02],\n",
       "       [1.40797960e-08, 2.24898756e-03, 8.04326774e-08, 3.14083546e-02,\n",
       "        5.19478363e-06, 8.96471679e-01, 6.98657408e-02],\n",
       "       [7.09266901e-01, 2.04495390e-08, 2.10784702e-03, 8.71013559e-04,\n",
       "        2.87753880e-01, 8.34528557e-10, 2.15755207e-07],\n",
       "       [1.80044937e-10, 8.88013244e-01, 1.94914932e-07, 1.66996571e-04,\n",
       "        5.01502836e-06, 8.43215510e-02, 2.74929348e-02],\n",
       "       [6.98610246e-01, 1.16487776e-07, 2.94984758e-01, 6.00827020e-03,\n",
       "        3.95250419e-04, 4.76347594e-07, 8.56653230e-07],\n",
       "       [1.65976788e-04, 2.77674262e-04, 8.15628562e-03, 9.59838182e-03,\n",
       "        9.94411530e-04, 5.67025108e-06, 9.80801582e-01],\n",
       "       [9.49691437e-10, 3.75124216e-01, 1.10650024e-06, 1.90685721e-04,\n",
       "        3.09785450e-04, 2.75829285e-01, 3.48544896e-01],\n",
       "       [2.84254233e-19, 2.03812913e-08, 7.85767122e-13, 1.17258434e-08,\n",
       "        3.80661079e-14, 4.55559020e-05, 9.99954402e-01],\n",
       "       [2.72367150e-02, 8.26173441e-09, 8.41077508e-06, 9.72622275e-01,\n",
       "        1.19010299e-04, 3.07569735e-07, 1.32972691e-05],\n",
       "       [6.94372833e-01, 3.31586009e-11, 7.17964358e-05, 1.91667274e-01,\n",
       "        1.04570359e-01, 6.26111589e-03, 3.05652712e-03],\n",
       "       [9.42849965e-11, 9.99319851e-01, 7.70580766e-10, 1.11633071e-07,\n",
       "        1.16616738e-09, 2.49465643e-07, 6.79748075e-04],\n",
       "       [6.00084422e-05, 5.97023177e-14, 6.83476685e-07, 1.14999621e-05,\n",
       "        9.99927700e-01, 7.73001732e-11, 1.10819123e-13],\n",
       "       [1.25208721e-01, 5.90072391e-09, 2.83808527e-06, 8.74646008e-01,\n",
       "        1.33389709e-04, 3.69453574e-06, 5.44048589e-06],\n",
       "       [1.95006665e-03, 1.19690725e-07, 7.23395578e-06, 1.94572698e-04,\n",
       "        9.97802973e-01, 7.21807751e-08, 4.48617538e-05],\n",
       "       [1.96804240e-09, 3.59282130e-05, 6.94477087e-10, 3.36187273e-01,\n",
       "        4.29767999e-10, 6.63721263e-01, 5.53571699e-05],\n",
       "       [9.95895445e-01, 1.27881323e-08, 7.29424646e-04, 3.37491045e-03,\n",
       "        1.46635756e-07, 9.83618409e-10, 1.46791066e-07],\n",
       "       [1.52065055e-02, 6.28544949e-09, 9.84793544e-01, 5.03244246e-09,\n",
       "        9.12985154e-09, 1.35406426e-11, 8.76262618e-09],\n",
       "       [1.04475272e-04, 3.39948838e-06, 1.64168409e-06, 9.99865532e-01,\n",
       "        3.22046702e-07, 1.70395433e-05, 7.58981014e-06],\n",
       "       [1.96005091e-13, 1.61522227e-08, 7.36652850e-10, 5.53523159e-06,\n",
       "        9.03040416e-08, 9.98638690e-01, 1.35575759e-03],\n",
       "       [6.79162770e-09, 5.81269327e-04, 9.63876300e-06, 3.91110341e-04,\n",
       "        3.31715200e-05, 6.40048534e-02, 9.34979975e-01],\n",
       "       [1.40797960e-08, 2.24898756e-03, 8.04326774e-08, 3.14083546e-02,\n",
       "        5.19478363e-06, 8.96471679e-01, 6.98657408e-02],\n",
       "       [1.35203372e-04, 1.20294874e-03, 1.37176167e-03, 2.40889594e-01,\n",
       "        7.27618486e-03, 6.67038039e-05, 7.49057591e-01],\n",
       "       [3.24782985e-03, 2.14721775e-04, 9.34717357e-01, 5.58051802e-02,\n",
       "        9.26819837e-07, 5.00362273e-03, 1.01018033e-03],\n",
       "       [3.12223971e-01, 5.41757472e-05, 1.31180873e-02, 4.62660508e-04,\n",
       "        3.41583649e-03, 1.32144447e-12, 6.70725286e-01],\n",
       "       [3.91315582e-04, 1.34457669e-05, 9.99524415e-01, 4.68221515e-05,\n",
       "        1.05113750e-05, 3.73709412e-07, 1.31403467e-05],\n",
       "       [1.54416728e-06, 1.44538239e-01, 2.30812975e-06, 7.77138531e-01,\n",
       "        4.10194698e-05, 6.52815178e-02, 1.29967602e-02],\n",
       "       [4.67277801e-04, 1.22639167e-05, 2.65591425e-05, 7.25338161e-01,\n",
       "        1.53181925e-01, 1.31831357e-05, 1.20960727e-01],\n",
       "       [4.41228303e-06, 5.77838273e-06, 9.99989808e-01, 8.59009641e-10,\n",
       "        4.32363902e-11, 2.50341011e-14, 2.01525872e-08],\n",
       "       [9.93056059e-01, 9.02080410e-10, 2.80854874e-05, 9.24854321e-05,\n",
       "        1.83134239e-06, 4.52269056e-11, 6.82159513e-03],\n",
       "       [2.70126037e-08, 2.24929053e-08, 1.27571425e-07, 2.85121896e-05,\n",
       "        8.67622632e-08, 9.99969065e-01, 2.13027624e-06],\n",
       "       [2.42574010e-16, 9.99998271e-01, 4.63628701e-13, 7.80362086e-09,\n",
       "        1.00700093e-09, 1.46914670e-06, 2.87007992e-07],\n",
       "       [2.49086307e-09, 3.06067871e-23, 7.44933449e-16, 6.81708921e-13,\n",
       "        9.99999940e-01, 1.41777129e-16, 4.94152827e-16],\n",
       "       [9.46633549e-10, 4.64431514e-06, 4.07563316e-09, 1.77145303e-05,\n",
       "        1.06658675e-01, 1.13946401e-01, 7.79372513e-01],\n",
       "       [1.91108199e-07, 6.49383545e-01, 9.96175277e-06, 9.73365828e-03,\n",
       "        1.75330861e-04, 2.29277819e-01, 1.11419566e-01]], dtype=float32)"
      ]
     },
     "execution_count": 16,
     "metadata": {},
     "output_type": "execute_result"
    }
   ],
   "source": [
    "y_pred"
   ]
  }
 ],
 "metadata": {
  "colab": {
   "gpuType": "T4",
   "provenance": []
  },
  "kernelspec": {
   "display_name": "Python 3 (ipykernel)",
   "language": "python",
   "name": "python3"
  },
  "language_info": {
   "codemirror_mode": {
    "name": "ipython",
    "version": 3
   },
   "file_extension": ".py",
   "mimetype": "text/x-python",
   "name": "python",
   "nbconvert_exporter": "python",
   "pygments_lexer": "ipython3",
   "version": "3.10.5"
  }
 },
 "nbformat": 4,
 "nbformat_minor": 1
}
